{
 "cells": [
  {
   "cell_type": "code",
   "execution_count": 47,
   "metadata": {},
   "outputs": [],
   "source": [
    "import pandas as pd\n",
    "import gspread\n",
    "import requests\n",
    "\n",
    "token = 'AF5y90PW7vmJALond4SEGVBFwmt3Jhj7Ba7oclAeXL4'"
   ]
  },
  {
   "cell_type": "code",
   "execution_count": 48,
   "metadata": {},
   "outputs": [],
   "source": [
    "sa = gspread.service_account(filename='geprek-wani-c700b4b8002f.json')"
   ]
  },
  {
   "cell_type": "code",
   "execution_count": 49,
   "metadata": {},
   "outputs": [],
   "source": [
    "sheet = sa.open('Wani Spreadsheet')"
   ]
  },
  {
   "cell_type": "code",
   "execution_count": 50,
   "metadata": {},
   "outputs": [],
   "source": [
    "database = sheet.worksheet('Database Harga')"
   ]
  },
  {
   "cell_type": "code",
   "execution_count": 51,
   "metadata": {},
   "outputs": [],
   "source": [
    "df_harga = pd.DataFrame(database.get_all_records())"
   ]
  },
  {
   "cell_type": "code",
   "execution_count": 52,
   "metadata": {},
   "outputs": [],
   "source": [
    "worksheet = sheet.worksheet('Pesanan')"
   ]
  },
  {
   "cell_type": "code",
   "execution_count": 53,
   "metadata": {},
   "outputs": [],
   "source": [
    "df = pd.DataFrame(worksheet.get_all_records())"
   ]
  },
  {
   "cell_type": "code",
   "execution_count": 54,
   "metadata": {},
   "outputs": [],
   "source": [
    "df.rename(columns={'Request cabe GEPREK': 'Cabe'}, inplace=True)"
   ]
  },
  {
   "cell_type": "code",
   "execution_count": 55,
   "metadata": {},
   "outputs": [
    {
     "data": {
      "text/html": [
       "<div>\n",
       "<style scoped>\n",
       "    .dataframe tbody tr th:only-of-type {\n",
       "        vertical-align: middle;\n",
       "    }\n",
       "\n",
       "    .dataframe tbody tr th {\n",
       "        vertical-align: top;\n",
       "    }\n",
       "\n",
       "    .dataframe thead th {\n",
       "        text-align: right;\n",
       "    }\n",
       "</style>\n",
       "<table border=\"1\" class=\"dataframe\">\n",
       "  <thead>\n",
       "    <tr style=\"text-align: right;\">\n",
       "      <th></th>\n",
       "      <th>Timestamp</th>\n",
       "      <th>Nama</th>\n",
       "      <th>Makanan Utama</th>\n",
       "      <th>Cabe</th>\n",
       "      <th>Camilan</th>\n",
       "      <th>Minuman</th>\n",
       "      <th>Sambal</th>\n",
       "    </tr>\n",
       "  </thead>\n",
       "  <tbody>\n",
       "    <tr>\n",
       "      <th>0</th>\n",
       "      <td>14/04/2023 07:58:46</td>\n",
       "      <td>Rey</td>\n",
       "      <td>Indomie Telur Geprek</td>\n",
       "      <td>0</td>\n",
       "      <td></td>\n",
       "      <td>Es teh</td>\n",
       "      <td></td>\n",
       "    </tr>\n",
       "    <tr>\n",
       "      <th>1</th>\n",
       "      <td>14/04/2023 07:59:01</td>\n",
       "      <td>Rey</td>\n",
       "      <td>Ayam geprek tanpa nasi</td>\n",
       "      <td>1</td>\n",
       "      <td></td>\n",
       "      <td></td>\n",
       "      <td></td>\n",
       "    </tr>\n",
       "    <tr>\n",
       "      <th>2</th>\n",
       "      <td>14/04/2023 08:34:02</td>\n",
       "      <td>Tot</td>\n",
       "      <td>Nasi Ayam Geprek</td>\n",
       "      <td>3</td>\n",
       "      <td></td>\n",
       "      <td>Es teh</td>\n",
       "      <td></td>\n",
       "    </tr>\n",
       "    <tr>\n",
       "      <th>3</th>\n",
       "      <td>14/04/2023 08:34:43</td>\n",
       "      <td>Tot</td>\n",
       "      <td>Nasi Ayam Bakar</td>\n",
       "      <td></td>\n",
       "      <td></td>\n",
       "      <td>Es teh</td>\n",
       "      <td></td>\n",
       "    </tr>\n",
       "    <tr>\n",
       "      <th>4</th>\n",
       "      <td>14/04/2023 08:37:10</td>\n",
       "      <td>alvin</td>\n",
       "      <td>Mie Goreng Biasa</td>\n",
       "      <td></td>\n",
       "      <td>Usus Crispy tanpa bumbu</td>\n",
       "      <td></td>\n",
       "      <td></td>\n",
       "    </tr>\n",
       "  </tbody>\n",
       "</table>\n",
       "</div>"
      ],
      "text/plain": [
       "             Timestamp   Nama           Makanan Utama Cabe  \\\n",
       "0  14/04/2023 07:58:46    Rey    Indomie Telur Geprek    0   \n",
       "1  14/04/2023 07:59:01    Rey  Ayam geprek tanpa nasi    1   \n",
       "2  14/04/2023 08:34:02    Tot        Nasi Ayam Geprek    3   \n",
       "3  14/04/2023 08:34:43    Tot         Nasi Ayam Bakar        \n",
       "4  14/04/2023 08:37:10  alvin        Mie Goreng Biasa        \n",
       "\n",
       "                   Camilan Minuman Sambal  \n",
       "0                           Es teh         \n",
       "1                                          \n",
       "2                           Es teh         \n",
       "3                           Es teh         \n",
       "4  Usus Crispy tanpa bumbu                 "
      ]
     },
     "execution_count": 55,
     "metadata": {},
     "output_type": "execute_result"
    }
   ],
   "source": [
    "df.head()"
   ]
  },
  {
   "cell_type": "code",
   "execution_count": 56,
   "metadata": {},
   "outputs": [
    {
     "data": {
      "text/html": [
       "<div>\n",
       "<style scoped>\n",
       "    .dataframe tbody tr th:only-of-type {\n",
       "        vertical-align: middle;\n",
       "    }\n",
       "\n",
       "    .dataframe tbody tr th {\n",
       "        vertical-align: top;\n",
       "    }\n",
       "\n",
       "    .dataframe thead th {\n",
       "        text-align: right;\n",
       "    }\n",
       "</style>\n",
       "<table border=\"1\" class=\"dataframe\">\n",
       "  <thead>\n",
       "    <tr style=\"text-align: right;\">\n",
       "      <th></th>\n",
       "      <th>Makanan Utama</th>\n",
       "      <th>Cabe</th>\n",
       "      <th>Nama</th>\n",
       "    </tr>\n",
       "  </thead>\n",
       "  <tbody>\n",
       "    <tr>\n",
       "      <th>0</th>\n",
       "      <td>Indomie Telur Geprek</td>\n",
       "      <td>0</td>\n",
       "      <td>Rey</td>\n",
       "    </tr>\n",
       "    <tr>\n",
       "      <th>1</th>\n",
       "      <td>Ayam geprek tanpa nasi</td>\n",
       "      <td>1</td>\n",
       "      <td>Rey</td>\n",
       "    </tr>\n",
       "    <tr>\n",
       "      <th>2</th>\n",
       "      <td>Nasi Ayam Geprek</td>\n",
       "      <td>3</td>\n",
       "      <td>Tot</td>\n",
       "    </tr>\n",
       "    <tr>\n",
       "      <th>3</th>\n",
       "      <td>Nasi Ayam Bakar</td>\n",
       "      <td>1</td>\n",
       "      <td>Tot</td>\n",
       "    </tr>\n",
       "    <tr>\n",
       "      <th>4</th>\n",
       "      <td>Mie Goreng Biasa</td>\n",
       "      <td>1</td>\n",
       "      <td>alvin</td>\n",
       "    </tr>\n",
       "    <tr>\n",
       "      <th>5</th>\n",
       "      <td>Nasi Ayam Geprek</td>\n",
       "      <td>1</td>\n",
       "      <td>Max</td>\n",
       "    </tr>\n",
       "  </tbody>\n",
       "</table>\n",
       "</div>"
      ],
      "text/plain": [
       "            Makanan Utama  Cabe   Nama\n",
       "0    Indomie Telur Geprek     0    Rey\n",
       "1  Ayam geprek tanpa nasi     1    Rey\n",
       "2        Nasi Ayam Geprek     3    Tot\n",
       "3         Nasi Ayam Bakar     1    Tot\n",
       "4        Mie Goreng Biasa     1  alvin\n",
       "5        Nasi Ayam Geprek     1    Max"
      ]
     },
     "execution_count": 56,
     "metadata": {},
     "output_type": "execute_result"
    }
   ],
   "source": [
    "# create a list containing 'Makanan Utama' and 'Nama'\n",
    "list = ['Makanan Utama', 'Cabe', 'Nama']\n",
    "\n",
    "# replace the empty string with 1\n",
    "df[list] = df[list].replace('', 1)\n",
    "\n",
    "df[list]"
   ]
  },
  {
   "cell_type": "code",
   "execution_count": 91,
   "metadata": {},
   "outputs": [
    {
     "data": {
      "text/html": [
       "<div>\n",
       "<style scoped>\n",
       "    .dataframe tbody tr th:only-of-type {\n",
       "        vertical-align: middle;\n",
       "    }\n",
       "\n",
       "    .dataframe tbody tr th {\n",
       "        vertical-align: top;\n",
       "    }\n",
       "\n",
       "    .dataframe thead th {\n",
       "        text-align: right;\n",
       "    }\n",
       "</style>\n",
       "<table border=\"1\" class=\"dataframe\">\n",
       "  <thead>\n",
       "    <tr style=\"text-align: right;\">\n",
       "      <th></th>\n",
       "      <th>Timestamp</th>\n",
       "      <th>Nama</th>\n",
       "      <th>Makanan Utama</th>\n",
       "      <th>Cabe</th>\n",
       "      <th>Camilan</th>\n",
       "      <th>Minuman</th>\n",
       "      <th>Sambal</th>\n",
       "    </tr>\n",
       "  </thead>\n",
       "  <tbody>\n",
       "    <tr>\n",
       "      <th>1</th>\n",
       "      <td>14/04/2023 07:59:01</td>\n",
       "      <td>Rey</td>\n",
       "      <td>Ayam geprek tanpa nasi</td>\n",
       "      <td>1</td>\n",
       "      <td></td>\n",
       "      <td></td>\n",
       "      <td></td>\n",
       "    </tr>\n",
       "    <tr>\n",
       "      <th>2</th>\n",
       "      <td>14/04/2023 08:34:02</td>\n",
       "      <td>Tot</td>\n",
       "      <td>Nasi Ayam Geprek</td>\n",
       "      <td>3</td>\n",
       "      <td></td>\n",
       "      <td>Es teh</td>\n",
       "      <td></td>\n",
       "    </tr>\n",
       "    <tr>\n",
       "      <th>5</th>\n",
       "      <td>14/04/2023 08:53:14</td>\n",
       "      <td>Max</td>\n",
       "      <td>Nasi Ayam Geprek</td>\n",
       "      <td>1</td>\n",
       "      <td></td>\n",
       "      <td></td>\n",
       "      <td></td>\n",
       "    </tr>\n",
       "  </tbody>\n",
       "</table>\n",
       "</div>"
      ],
      "text/plain": [
       "             Timestamp Nama           Makanan Utama  Cabe Camilan Minuman  \\\n",
       "1  14/04/2023 07:59:01  Rey  Ayam geprek tanpa nasi     1                   \n",
       "2  14/04/2023 08:34:02  Tot        Nasi Ayam Geprek     3          Es teh   \n",
       "5  14/04/2023 08:53:14  Max        Nasi Ayam Geprek     1                   \n",
       "\n",
       "  Sambal  \n",
       "1         \n",
       "2         \n",
       "5         "
      ]
     },
     "execution_count": 91,
     "metadata": {},
     "output_type": "execute_result"
    }
   ],
   "source": [
    "# Custom geprek\n",
    "df_geprek = df[df['Makanan Utama'].str.contains('Geprek', case=False) & ~df['Makanan Utama'].str.contains('Indomie')]\n",
    "df_geprek"
   ]
  },
  {
   "cell_type": "code",
   "execution_count": 92,
   "metadata": {},
   "outputs": [],
   "source": [
    "# Dataframe non-geprek\n",
    "df_not_geprek = df[~df['Makanan Utama'].str.contains('geprek', case=False)]\n",
    "\n",
    "# Dataframe geprek tanpa nasi\n",
    "df_geprek_tanpa_nasi = df_geprek[df_geprek['Makanan Utama'].str.contains('tanpa nasi')]\n",
    "\n",
    "# Dataframe geprek dengan nasi\n",
    "df_geprek_dengan_nasi = df_geprek[~df_geprek['Makanan Utama'].str.contains('tanpa nasi')]\n",
    "\n",
    "# Dataframe indomie geprek\n",
    "df_indomie_geprek = df[df['Makanan Utama'].str.contains('Indomie') & df['Makanan Utama'].str.contains('Geprek')]\n",
    "\n",
    "# Dataframe camilan\n",
    "df_camilan = df[['Camilan', 'Nama']]\n",
    "df_camilan = df_camilan[df_camilan['Camilan'] != '']\n",
    "\n",
    "# Dataframe minuman\n",
    "df_minuman = df[['Minuman', 'Nama']]\n",
    "df_minuman = df_minuman[df_minuman['Minuman'] != '']\n",
    "\n",
    "# Dataframe sambal\n",
    "df_sambal = df[['Sambal', 'Nama']]\n",
    "df_sambal = df_sambal[df_sambal['Sambal'] != '']"
   ]
  },
  {
   "cell_type": "code",
   "execution_count": 94,
   "metadata": {},
   "outputs": [
    {
     "name": "stdout",
     "output_type": "stream",
     "text": [
      "Pesanan Depot Wani: 2023-04-14 09:39:49.690822\n",
      "=====================================\n",
      "1 Nasi Ayam Geprek Cabe 3 (Tot)\n",
      "1 Nasi Ayam Geprek Cabe 1 (Max)\n",
      "1 Ayam Geprek tanpa nasi Cabe 1 (Rey)\n",
      "1 Nasi Ayam Bakar (Tot)\n",
      "1 Mie Goreng Biasa (alvin)\n",
      "1 Indomie Telur Geprek Cabe 0 (Rey)\n",
      "1 Usus Crispy tanpa bumbu (alvin)\n",
      "3 Es teh (Rey, Tot, Tot)\n"
     ]
    }
   ],
   "source": [
    "combined_prints = []\n",
    "combined_prints.append(f\"Pesanan Depot Wani: {pd.Timestamp.now()}\")\n",
    "combined_prints.append(\"=====================================\")\n",
    "combined_prints.extend([f\"{sum(df_geprek_dengan_nasi['Cabe'] == i)} Nasi Ayam Geprek Cabe {i} ({', '.join(df_geprek_dengan_nasi[df_geprek_dengan_nasi['Cabe'] == i]['Nama'])})\" for i in df_geprek_dengan_nasi['Cabe'].unique()])\n",
    "combined_prints.extend([f\"{sum(df_geprek_tanpa_nasi['Cabe'] == i)} Ayam Geprek tanpa nasi Cabe {i} ({', '.join(df_geprek_tanpa_nasi[df_geprek_tanpa_nasi['Cabe'] == i]['Nama'])})\" for i in df_geprek_tanpa_nasi['Cabe'].unique()])\n",
    "combined_prints.extend([f\"{sum(df_not_geprek['Makanan Utama'] == i)} {i} ({', '.join(df_not_geprek[df_not_geprek['Makanan Utama'] == i]['Nama'])})\" for i in df_not_geprek['Makanan Utama'].unique()])\n",
    "combined_prints.extend([f\"{sum(df_indomie_geprek['Cabe'] == i)} {df_indomie_geprek[df_indomie_geprek['Cabe'] == i]['Makanan Utama'].iloc[0]} Cabe {i} ({', '.join(df_indomie_geprek[df_indomie_geprek['Cabe'] == i]['Nama'])})\" for i in df_indomie_geprek['Cabe'].unique()])\n",
    "combined_prints.extend([f\"{sum(df_camilan['Camilan'] == i)} {i} ({', '.join(df_camilan[df_camilan['Camilan'] == i]['Nama'])})\" for i in df_camilan['Camilan'].unique()])\n",
    "combined_prints.extend([f\"{sum(df_minuman['Minuman'] == i)} {i} ({', '.join(df_minuman[df_minuman['Minuman'] == i]['Nama'])})\" for i in df_minuman['Minuman'].unique()])\n",
    "combined_prints.extend([f\"{sum(df_sambal['Sambal'] == i)} {i} ({', '.join(df_sambal[df_sambal['Sambal'] == i]['Nama'])})\" for i in df_sambal['Sambal'].unique()])\n",
    "\n",
    "print('\\n'.join(combined_prints))"
   ]
  },
  {
   "cell_type": "code",
   "execution_count": 60,
   "metadata": {},
   "outputs": [],
   "source": [
    "# remove all text after '(' in combined_prints\n",
    "# combined_prints = [i.split('(')[0] for i in combined_prints]\n",
    "\n",
    "# print('\\n'.join(combined_prints))"
   ]
  },
  {
   "cell_type": "code",
   "execution_count": 61,
   "metadata": {},
   "outputs": [],
   "source": [
    "# payload = {'message' : '\\n'.join(combined_prints)}\n",
    "# r = requests.post('https://notify-api.line.me/api/notify'\n",
    "#                 , headers={'Authorization' : 'Bearer {}'.format(token)}\n",
    "#                 , params = payload)"
   ]
  },
  {
   "cell_type": "code",
   "execution_count": null,
   "metadata": {},
   "outputs": [],
   "source": []
  }
 ],
 "metadata": {
  "kernelspec": {
   "display_name": "base",
   "language": "python",
   "name": "python3"
  },
  "language_info": {
   "codemirror_mode": {
    "name": "ipython",
    "version": 3
   },
   "file_extension": ".py",
   "mimetype": "text/x-python",
   "name": "python",
   "nbconvert_exporter": "python",
   "pygments_lexer": "ipython3",
   "version": "3.10.0"
  },
  "orig_nbformat": 4
 },
 "nbformat": 4,
 "nbformat_minor": 2
}
