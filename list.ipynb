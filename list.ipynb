{
 "cells": [
  {
   "cell_type": "code",
   "execution_count": 1,
   "metadata": {},
   "outputs": [],
   "source": [
    "import pandas as pd\n",
    "import gspread\n",
    "import requests\n",
    "\n",
    "token = 'AF5y90PW7vmJALond4SEGVBFwmt3Jhj7Ba7oclAeXL4'"
   ]
  },
  {
   "cell_type": "code",
   "execution_count": 2,
   "metadata": {},
   "outputs": [],
   "source": [
    "sa = gspread.service_account(filename='geprek-wani-c700b4b8002f.json')"
   ]
  },
  {
   "cell_type": "code",
   "execution_count": 3,
   "metadata": {},
   "outputs": [],
   "source": [
    "sheet = sa.open('Wani Spreadsheet')"
   ]
  },
  {
   "cell_type": "code",
   "execution_count": 4,
   "metadata": {},
   "outputs": [],
   "source": [
    "database = sheet.worksheet('Database Harga')"
   ]
  },
  {
   "cell_type": "code",
   "execution_count": 5,
   "metadata": {},
   "outputs": [],
   "source": [
    "df_harga = pd.DataFrame(database.get_all_records())"
   ]
  },
  {
   "cell_type": "code",
   "execution_count": 6,
   "metadata": {},
   "outputs": [],
   "source": [
    "worksheet = sheet.worksheet('Pesanan')"
   ]
  },
  {
   "cell_type": "code",
   "execution_count": 7,
   "metadata": {},
   "outputs": [],
   "source": [
    "df = pd.DataFrame(worksheet.get_all_records())"
   ]
  },
  {
   "cell_type": "code",
   "execution_count": 8,
   "metadata": {},
   "outputs": [],
   "source": [
    "df.rename(columns={'Request cabe GEPREK atau cabe TERIYAKI': 'Cabe', 'Sambal (+ 2.000)': 'Sambal'}, inplace=True)"
   ]
  },
  {
   "cell_type": "code",
   "execution_count": 9,
   "metadata": {},
   "outputs": [
    {
     "data": {
      "text/html": [
       "<div>\n",
       "<style scoped>\n",
       "    .dataframe tbody tr th:only-of-type {\n",
       "        vertical-align: middle;\n",
       "    }\n",
       "\n",
       "    .dataframe tbody tr th {\n",
       "        vertical-align: top;\n",
       "    }\n",
       "\n",
       "    .dataframe thead th {\n",
       "        text-align: right;\n",
       "    }\n",
       "</style>\n",
       "<table border=\"1\" class=\"dataframe\">\n",
       "  <thead>\n",
       "    <tr style=\"text-align: right;\">\n",
       "      <th></th>\n",
       "      <th>Timestamp</th>\n",
       "      <th>Nama</th>\n",
       "      <th>Makanan Utama</th>\n",
       "      <th>Cabe</th>\n",
       "      <th>Camilan</th>\n",
       "      <th>Minuman</th>\n",
       "      <th>Sambal</th>\n",
       "    </tr>\n",
       "  </thead>\n",
       "  <tbody>\n",
       "    <tr>\n",
       "      <th>0</th>\n",
       "      <td>02/05/2023 09:01:22</td>\n",
       "      <td>Timmy</td>\n",
       "      <td>Nasi Fuyunghai</td>\n",
       "      <td></td>\n",
       "      <td></td>\n",
       "      <td></td>\n",
       "      <td></td>\n",
       "    </tr>\n",
       "    <tr>\n",
       "      <th>1</th>\n",
       "      <td>02/05/2023 09:09:43</td>\n",
       "      <td>Aiffah</td>\n",
       "      <td>Nasi Fuyunghai</td>\n",
       "      <td></td>\n",
       "      <td></td>\n",
       "      <td></td>\n",
       "      <td></td>\n",
       "    </tr>\n",
       "    <tr>\n",
       "      <th>2</th>\n",
       "      <td>02/05/2023 09:10:04</td>\n",
       "      <td>Ello Musk</td>\n",
       "      <td>Nasi Fuyunghai</td>\n",
       "      <td></td>\n",
       "      <td></td>\n",
       "      <td></td>\n",
       "      <td></td>\n",
       "    </tr>\n",
       "    <tr>\n",
       "      <th>3</th>\n",
       "      <td>02/05/2023 09:19:27</td>\n",
       "      <td>Salad</td>\n",
       "      <td>Nasi Goreng Spesial</td>\n",
       "      <td></td>\n",
       "      <td></td>\n",
       "      <td></td>\n",
       "      <td></td>\n",
       "    </tr>\n",
       "    <tr>\n",
       "      <th>4</th>\n",
       "      <td>02/05/2023 09:25:31</td>\n",
       "      <td>Ello Musk</td>\n",
       "      <td>Nasi Ayam Goreng Lengkuas</td>\n",
       "      <td></td>\n",
       "      <td></td>\n",
       "      <td></td>\n",
       "      <td></td>\n",
       "    </tr>\n",
       "  </tbody>\n",
       "</table>\n",
       "</div>"
      ],
      "text/plain": [
       "             Timestamp       Nama              Makanan Utama Cabe Camilan  \\\n",
       "0  02/05/2023 09:01:22      Timmy             Nasi Fuyunghai                \n",
       "1  02/05/2023 09:09:43     Aiffah             Nasi Fuyunghai                \n",
       "2  02/05/2023 09:10:04  Ello Musk             Nasi Fuyunghai                \n",
       "3  02/05/2023 09:19:27      Salad        Nasi Goreng Spesial                \n",
       "4  02/05/2023 09:25:31  Ello Musk  Nasi Ayam Goreng Lengkuas                \n",
       "\n",
       "  Minuman Sambal  \n",
       "0                 \n",
       "1                 \n",
       "2                 \n",
       "3                 \n",
       "4                 "
      ]
     },
     "execution_count": 9,
     "metadata": {},
     "output_type": "execute_result"
    }
   ],
   "source": [
    "df.head()"
   ]
  },
  {
   "cell_type": "code",
   "execution_count": 10,
   "metadata": {},
   "outputs": [
    {
     "data": {
      "text/html": [
       "<div>\n",
       "<style scoped>\n",
       "    .dataframe tbody tr th:only-of-type {\n",
       "        vertical-align: middle;\n",
       "    }\n",
       "\n",
       "    .dataframe tbody tr th {\n",
       "        vertical-align: top;\n",
       "    }\n",
       "\n",
       "    .dataframe thead th {\n",
       "        text-align: right;\n",
       "    }\n",
       "</style>\n",
       "<table border=\"1\" class=\"dataframe\">\n",
       "  <thead>\n",
       "    <tr style=\"text-align: right;\">\n",
       "      <th></th>\n",
       "      <th>Makanan Utama</th>\n",
       "      <th>Cabe</th>\n",
       "      <th>Nama</th>\n",
       "    </tr>\n",
       "  </thead>\n",
       "  <tbody>\n",
       "    <tr>\n",
       "      <th>0</th>\n",
       "      <td>Nasi Fuyunghai</td>\n",
       "      <td>1</td>\n",
       "      <td>Timmy</td>\n",
       "    </tr>\n",
       "    <tr>\n",
       "      <th>1</th>\n",
       "      <td>Nasi Fuyunghai</td>\n",
       "      <td>1</td>\n",
       "      <td>Aiffah</td>\n",
       "    </tr>\n",
       "    <tr>\n",
       "      <th>2</th>\n",
       "      <td>Nasi Fuyunghai</td>\n",
       "      <td>1</td>\n",
       "      <td>Ello Musk</td>\n",
       "    </tr>\n",
       "    <tr>\n",
       "      <th>3</th>\n",
       "      <td>Nasi Goreng Spesial</td>\n",
       "      <td>1</td>\n",
       "      <td>Salad</td>\n",
       "    </tr>\n",
       "    <tr>\n",
       "      <th>4</th>\n",
       "      <td>Nasi Ayam Goreng Lengkuas</td>\n",
       "      <td>1</td>\n",
       "      <td>Ello Musk</td>\n",
       "    </tr>\n",
       "  </tbody>\n",
       "</table>\n",
       "</div>"
      ],
      "text/plain": [
       "               Makanan Utama  Cabe       Nama\n",
       "0             Nasi Fuyunghai     1      Timmy\n",
       "1             Nasi Fuyunghai     1     Aiffah\n",
       "2             Nasi Fuyunghai     1  Ello Musk\n",
       "3        Nasi Goreng Spesial     1      Salad\n",
       "4  Nasi Ayam Goreng Lengkuas     1  Ello Musk"
      ]
     },
     "execution_count": 10,
     "metadata": {},
     "output_type": "execute_result"
    }
   ],
   "source": [
    "# create a list containing 'Makanan Utama' and 'Nama'\n",
    "list = ['Makanan Utama', 'Cabe', 'Nama']\n",
    "\n",
    "# replace the empty string with 1\n",
    "df[list] = df[list].replace('', 1)\n",
    "\n",
    "df[list]"
   ]
  },
  {
   "cell_type": "code",
   "execution_count": 11,
   "metadata": {},
   "outputs": [
    {
     "data": {
      "text/html": [
       "<div>\n",
       "<style scoped>\n",
       "    .dataframe tbody tr th:only-of-type {\n",
       "        vertical-align: middle;\n",
       "    }\n",
       "\n",
       "    .dataframe tbody tr th {\n",
       "        vertical-align: top;\n",
       "    }\n",
       "\n",
       "    .dataframe thead th {\n",
       "        text-align: right;\n",
       "    }\n",
       "</style>\n",
       "<table border=\"1\" class=\"dataframe\">\n",
       "  <thead>\n",
       "    <tr style=\"text-align: right;\">\n",
       "      <th></th>\n",
       "      <th>Timestamp</th>\n",
       "      <th>Nama</th>\n",
       "      <th>Makanan Utama</th>\n",
       "      <th>Cabe</th>\n",
       "      <th>Camilan</th>\n",
       "      <th>Minuman</th>\n",
       "      <th>Sambal</th>\n",
       "    </tr>\n",
       "  </thead>\n",
       "  <tbody>\n",
       "  </tbody>\n",
       "</table>\n",
       "</div>"
      ],
      "text/plain": [
       "Empty DataFrame\n",
       "Columns: [Timestamp, Nama, Makanan Utama, Cabe, Camilan, Minuman, Sambal]\n",
       "Index: []"
      ]
     },
     "execution_count": 11,
     "metadata": {},
     "output_type": "execute_result"
    }
   ],
   "source": [
    "# Custom geprek\n",
    "df_geprek = df[df['Makanan Utama'].str.contains('Geprek', case=False) & ~df['Makanan Utama'].str.contains('Indomie') & ~df['Makanan Utama'].str.contains('Udang')]\n",
    "df_geprek"
   ]
  },
  {
   "cell_type": "code",
   "execution_count": 12,
   "metadata": {},
   "outputs": [],
   "source": [
    "# Dataframe not-geprek but include 'Indomie' and 'Udang'\n",
    "\n",
    "df_not_geprek = df[~df['Makanan Utama'].str.contains('geprek', case=False)]\n",
    "\n",
    "# Dataframe geprek tanpa nasi\n",
    "df_geprek_tanpa_nasi = df_geprek[df_geprek['Makanan Utama'].str.contains('tanpa Nasi')]\n",
    "\n",
    "# Dataframe geprek dengan nasi\n",
    "df_geprek_dengan_nasi = df_geprek[~df_geprek['Makanan Utama'].str.contains('tanpa Nasi')]\n",
    "\n",
    "# Dataframe indomie geprek\n",
    "df_indomie_geprek = df[df['Makanan Utama'].str.contains('Indomie') & df['Makanan Utama'].str.contains('Geprek')]\n",
    "\n",
    "# Dataframe udang geprek\n",
    "df_udang_geprek = df[df['Makanan Utama'].str.contains('Udang') & df['Makanan Utama'].str.contains('Geprek')]\n",
    "\n",
    "# Dataframe camilan\n",
    "df_camilan = df[['Camilan', 'Nama']]\n",
    "df_camilan = df_camilan[df_camilan['Camilan'] != '']\n",
    "\n",
    "# Dataframe minuman\n",
    "df_minuman = df[['Minuman', 'Nama']]\n",
    "df_minuman = df_minuman[df_minuman['Minuman'] != '']\n",
    "\n",
    "# Dataframe sambal\n",
    "df_sambal = df[['Sambal', 'Nama']]\n",
    "df_sambal = df_sambal[df_sambal['Sambal'] != '']"
   ]
  },
  {
   "cell_type": "code",
   "execution_count": 13,
   "metadata": {},
   "outputs": [
    {
     "name": "stdout",
     "output_type": "stream",
     "text": [
      "Pesanan Depot Wani: 2023-05-02 10:21:38.706722\n",
      "=====================================\n",
      "3 Nasi Fuyunghai (Timmy, Aiffah, Ello Musk)\n",
      "1 Nasi Goreng Spesial (Salad)\n",
      "1 Nasi Ayam Goreng Lengkuas (Ello Musk)\n"
     ]
    }
   ],
   "source": [
    "combined_prints = []\n",
    "combined_prints.append(f\"Pesanan Depot Wani: {pd.Timestamp.now()}\")\n",
    "combined_prints.append(\"=====================================\")\n",
    "combined_prints.extend([f\"{sum(df_geprek_dengan_nasi['Cabe'] == i)} Nasi Ayam Geprek Cabe {i} ({', '.join(df_geprek_dengan_nasi[df_geprek_dengan_nasi['Cabe'] == i]['Nama'])})\" for i in df_geprek_dengan_nasi['Cabe'].unique()])\n",
    "combined_prints.extend([f\"{sum(df_geprek_tanpa_nasi['Cabe'] == i)} Ayam Geprek tanpa nasi Cabe {i} ({', '.join(df_geprek_tanpa_nasi[df_geprek_tanpa_nasi['Cabe'] == i]['Nama'])})\" for i in df_geprek_tanpa_nasi['Cabe'].unique()])\n",
    "combined_prints.extend([f\"{sum(df_not_geprek['Makanan Utama'] == i)} {i} ({', '.join(df_not_geprek[df_not_geprek['Makanan Utama'] == i]['Nama'])})\" for i in df_not_geprek['Makanan Utama'].unique()])\n",
    "combined_prints.extend([f\"{sum(df_indomie_geprek['Cabe'] == i)} {df_indomie_geprek[df_indomie_geprek['Cabe'] == i]['Makanan Utama'].iloc[0]} Cabe {i} ({', '.join(df_indomie_geprek[df_indomie_geprek['Cabe'] == i]['Nama'])})\" for i in df_indomie_geprek['Cabe'].unique()])\n",
    "combined_prints.extend([f\"{sum(df_udang_geprek['Cabe'] == i)} {df_udang_geprek[df_udang_geprek['Cabe'] == i]['Makanan Utama'].iloc[0]} Cabe {i} ({', '.join(df_udang_geprek[df_udang_geprek['Cabe'] == i]['Nama'])})\" for i in df_udang_geprek['Cabe'].unique()])\n",
    "combined_prints.extend([f\"{sum(df_camilan['Camilan'] == i)} {i} ({', '.join(df_camilan[df_camilan['Camilan'] == i]['Nama'])})\" for i in df_camilan['Camilan'].unique()])\n",
    "combined_prints.extend([f\"{sum(df_minuman['Minuman'] == i)} {i} ({', '.join(df_minuman[df_minuman['Minuman'] == i]['Nama'])})\" for i in df_minuman['Minuman'].unique()])\n",
    "combined_prints.extend([f\"{sum(df_sambal['Sambal'] == i)} {i} ({', '.join(df_sambal[df_sambal['Sambal'] == i]['Nama'])})\" for i in df_sambal['Sambal'].unique()])\n",
    "\n",
    "print('\\n'.join(combined_prints))"
   ]
  },
  {
   "cell_type": "code",
   "execution_count": 14,
   "metadata": {},
   "outputs": [],
   "source": [
    "# remove all text after '(' in combined_prints\n",
    "# combined_prints = [i.split('(')[0] for i in combined_prints]\n",
    "\n",
    "# print('\\n'.join(combined_prints))"
   ]
  },
  {
   "cell_type": "code",
   "execution_count": 15,
   "metadata": {},
   "outputs": [],
   "source": [
    "payload = {'message' : '\\n'.join(combined_prints)}\n",
    "r = requests.post('https://notify-api.line.me/api/notify'\n",
    "                , headers={'Authorization' : 'Bearer {}'.format(token)}\n",
    "                , params = payload)"
   ]
  },
  {
   "cell_type": "code",
   "execution_count": 8,
   "metadata": {},
   "outputs": [],
   "source": [
    "# duar\n",
    "# payload = {'message' : 'Duar'}\n",
    "# files = {'imageFile': open('duar.jpg', 'rb')}\n",
    "# r = requests.post('https://notify-api.line.me/api/notify'\n",
    "#                 , headers={'Authorization' : 'Bearer {}'.format(token)}\n",
    "#                 , params = payload, files=files)"
   ]
  },
  {
   "cell_type": "code",
   "execution_count": 7,
   "metadata": {},
   "outputs": [],
   "source": [
    "# ambatukam\n",
    "# payload = {'message' : 'Ambatukam @Jason'}\n",
    "# files = {'imageFile': open('ambatukam.jpg', 'rb')}\n",
    "\n",
    "# r = requests.post('https://notify-api.line.me/api/notify'\n",
    "#                 , headers={'Authorization' : 'Bearer {}'.format(token)}\n",
    "#                 , params = payload, files=files)"
   ]
  },
  {
   "cell_type": "code",
   "execution_count": null,
   "metadata": {},
   "outputs": [],
   "source": []
  }
 ],
 "metadata": {
  "kernelspec": {
   "display_name": "base",
   "language": "python",
   "name": "python3"
  },
  "language_info": {
   "codemirror_mode": {
    "name": "ipython",
    "version": 3
   },
   "file_extension": ".py",
   "mimetype": "text/x-python",
   "name": "python",
   "nbconvert_exporter": "python",
   "pygments_lexer": "ipython3",
   "version": "3.10.0"
  },
  "orig_nbformat": 4
 },
 "nbformat": 4,
 "nbformat_minor": 2
}
