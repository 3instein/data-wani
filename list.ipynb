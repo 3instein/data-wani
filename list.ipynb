{
 "cells": [
  {
   "cell_type": "code",
   "execution_count": 79,
   "metadata": {},
   "outputs": [],
   "source": [
    "import pandas as pd\n",
    "import gspread\n",
    "import requests\n",
    "\n",
    "token = 'AF5y90PW7vmJALond4SEGVBFwmt3Jhj7Ba7oclAeXL4'"
   ]
  },
  {
   "cell_type": "code",
   "execution_count": 80,
   "metadata": {},
   "outputs": [],
   "source": [
    "sa = gspread.service_account(filename='geprek-wani-c700b4b8002f.json')"
   ]
  },
  {
   "cell_type": "code",
   "execution_count": 81,
   "metadata": {},
   "outputs": [],
   "source": [
    "sheet = sa.open('Wani Spreadsheet')"
   ]
  },
  {
   "cell_type": "code",
   "execution_count": 82,
   "metadata": {},
   "outputs": [],
   "source": [
    "database = sheet.worksheet('Database Harga')"
   ]
  },
  {
   "cell_type": "code",
   "execution_count": 83,
   "metadata": {},
   "outputs": [],
   "source": [
    "df_harga = pd.DataFrame(database.get_all_records())"
   ]
  },
  {
   "cell_type": "code",
   "execution_count": 84,
   "metadata": {},
   "outputs": [],
   "source": [
    "worksheet = sheet.worksheet('Pesanan')"
   ]
  },
  {
   "cell_type": "code",
   "execution_count": 85,
   "metadata": {},
   "outputs": [],
   "source": [
    "df = pd.DataFrame(worksheet.get_all_records())"
   ]
  },
  {
   "cell_type": "code",
   "execution_count": 86,
   "metadata": {},
   "outputs": [],
   "source": [
    "df.rename(columns={'Request cabe GEPREK': 'Cabe', 'Sambal (+ 2.000)': 'Sambal'}, inplace=True)"
   ]
  },
  {
   "cell_type": "code",
   "execution_count": 87,
   "metadata": {},
   "outputs": [
    {
     "data": {
      "text/html": [
       "<div>\n",
       "<style scoped>\n",
       "    .dataframe tbody tr th:only-of-type {\n",
       "        vertical-align: middle;\n",
       "    }\n",
       "\n",
       "    .dataframe tbody tr th {\n",
       "        vertical-align: top;\n",
       "    }\n",
       "\n",
       "    .dataframe thead th {\n",
       "        text-align: right;\n",
       "    }\n",
       "</style>\n",
       "<table border=\"1\" class=\"dataframe\">\n",
       "  <thead>\n",
       "    <tr style=\"text-align: right;\">\n",
       "      <th></th>\n",
       "      <th>Timestamp</th>\n",
       "      <th>Nama</th>\n",
       "      <th>Makanan Utama</th>\n",
       "      <th>Cabe</th>\n",
       "      <th>Camilan</th>\n",
       "      <th>Minuman</th>\n",
       "      <th>Sambal</th>\n",
       "    </tr>\n",
       "  </thead>\n",
       "  <tbody>\n",
       "    <tr>\n",
       "      <th>0</th>\n",
       "      <td>26/04/2023 21:43:03</td>\n",
       "      <td>Tot</td>\n",
       "      <td>Nasi Udang Geprek</td>\n",
       "      <td>2</td>\n",
       "      <td></td>\n",
       "      <td>Es teh</td>\n",
       "      <td></td>\n",
       "    </tr>\n",
       "    <tr>\n",
       "      <th>1</th>\n",
       "      <td>26/04/2023 21:43:34</td>\n",
       "      <td>Tot</td>\n",
       "      <td>Ayam geprek tanpa nasi</td>\n",
       "      <td>1</td>\n",
       "      <td></td>\n",
       "      <td>Es teh</td>\n",
       "      <td></td>\n",
       "    </tr>\n",
       "    <tr>\n",
       "      <th>2</th>\n",
       "      <td>26/04/2023 21:45:09</td>\n",
       "      <td>Averill</td>\n",
       "      <td>Indomie Ayam Geprek</td>\n",
       "      <td>3</td>\n",
       "      <td></td>\n",
       "      <td></td>\n",
       "      <td></td>\n",
       "    </tr>\n",
       "  </tbody>\n",
       "</table>\n",
       "</div>"
      ],
      "text/plain": [
       "             Timestamp     Nama           Makanan Utama  Cabe Camilan Minuman  \\\n",
       "0  26/04/2023 21:43:03      Tot       Nasi Udang Geprek     2          Es teh   \n",
       "1  26/04/2023 21:43:34      Tot  Ayam geprek tanpa nasi     1          Es teh   \n",
       "2  26/04/2023 21:45:09  Averill     Indomie Ayam Geprek     3                   \n",
       "\n",
       "  Sambal  \n",
       "0         \n",
       "1         \n",
       "2         "
      ]
     },
     "execution_count": 87,
     "metadata": {},
     "output_type": "execute_result"
    }
   ],
   "source": [
    "df.head()"
   ]
  },
  {
   "cell_type": "code",
   "execution_count": 88,
   "metadata": {},
   "outputs": [
    {
     "data": {
      "text/html": [
       "<div>\n",
       "<style scoped>\n",
       "    .dataframe tbody tr th:only-of-type {\n",
       "        vertical-align: middle;\n",
       "    }\n",
       "\n",
       "    .dataframe tbody tr th {\n",
       "        vertical-align: top;\n",
       "    }\n",
       "\n",
       "    .dataframe thead th {\n",
       "        text-align: right;\n",
       "    }\n",
       "</style>\n",
       "<table border=\"1\" class=\"dataframe\">\n",
       "  <thead>\n",
       "    <tr style=\"text-align: right;\">\n",
       "      <th></th>\n",
       "      <th>Makanan Utama</th>\n",
       "      <th>Cabe</th>\n",
       "      <th>Nama</th>\n",
       "    </tr>\n",
       "  </thead>\n",
       "  <tbody>\n",
       "    <tr>\n",
       "      <th>0</th>\n",
       "      <td>Nasi Udang Geprek</td>\n",
       "      <td>2</td>\n",
       "      <td>Tot</td>\n",
       "    </tr>\n",
       "    <tr>\n",
       "      <th>1</th>\n",
       "      <td>Ayam geprek tanpa nasi</td>\n",
       "      <td>1</td>\n",
       "      <td>Tot</td>\n",
       "    </tr>\n",
       "    <tr>\n",
       "      <th>2</th>\n",
       "      <td>Indomie Ayam Geprek</td>\n",
       "      <td>3</td>\n",
       "      <td>Averill</td>\n",
       "    </tr>\n",
       "  </tbody>\n",
       "</table>\n",
       "</div>"
      ],
      "text/plain": [
       "            Makanan Utama  Cabe     Nama\n",
       "0       Nasi Udang Geprek     2      Tot\n",
       "1  Ayam geprek tanpa nasi     1      Tot\n",
       "2     Indomie Ayam Geprek     3  Averill"
      ]
     },
     "execution_count": 88,
     "metadata": {},
     "output_type": "execute_result"
    }
   ],
   "source": [
    "# create a list containing 'Makanan Utama' and 'Nama'\n",
    "list = ['Makanan Utama', 'Cabe', 'Nama']\n",
    "\n",
    "# replace the empty string with 1\n",
    "df[list] = df[list].replace('', 1)\n",
    "\n",
    "df[list]"
   ]
  },
  {
   "cell_type": "code",
   "execution_count": 89,
   "metadata": {},
   "outputs": [
    {
     "data": {
      "text/html": [
       "<div>\n",
       "<style scoped>\n",
       "    .dataframe tbody tr th:only-of-type {\n",
       "        vertical-align: middle;\n",
       "    }\n",
       "\n",
       "    .dataframe tbody tr th {\n",
       "        vertical-align: top;\n",
       "    }\n",
       "\n",
       "    .dataframe thead th {\n",
       "        text-align: right;\n",
       "    }\n",
       "</style>\n",
       "<table border=\"1\" class=\"dataframe\">\n",
       "  <thead>\n",
       "    <tr style=\"text-align: right;\">\n",
       "      <th></th>\n",
       "      <th>Timestamp</th>\n",
       "      <th>Nama</th>\n",
       "      <th>Makanan Utama</th>\n",
       "      <th>Cabe</th>\n",
       "      <th>Camilan</th>\n",
       "      <th>Minuman</th>\n",
       "      <th>Sambal</th>\n",
       "    </tr>\n",
       "  </thead>\n",
       "  <tbody>\n",
       "    <tr>\n",
       "      <th>1</th>\n",
       "      <td>26/04/2023 21:43:34</td>\n",
       "      <td>Tot</td>\n",
       "      <td>Ayam geprek tanpa nasi</td>\n",
       "      <td>1</td>\n",
       "      <td></td>\n",
       "      <td>Es teh</td>\n",
       "      <td></td>\n",
       "    </tr>\n",
       "  </tbody>\n",
       "</table>\n",
       "</div>"
      ],
      "text/plain": [
       "             Timestamp Nama           Makanan Utama  Cabe Camilan Minuman  \\\n",
       "1  26/04/2023 21:43:34  Tot  Ayam geprek tanpa nasi     1          Es teh   \n",
       "\n",
       "  Sambal  \n",
       "1         "
      ]
     },
     "execution_count": 89,
     "metadata": {},
     "output_type": "execute_result"
    }
   ],
   "source": [
    "# Custom geprek\n",
    "df_geprek = df[df['Makanan Utama'].str.contains('Geprek', case=False) & ~df['Makanan Utama'].str.contains('Indomie') & ~df['Makanan Utama'].str.contains('Udang')]\n",
    "df_geprek"
   ]
  },
  {
   "cell_type": "code",
   "execution_count": 100,
   "metadata": {},
   "outputs": [],
   "source": [
    "# Dataframe not-geprek but include 'Indomie' and 'Udang'\n",
    "\n",
    "df_not_geprek = df[~df['Makanan Utama'].str.contains('geprek', case=False)]\n",
    "\n",
    "# Dataframe geprek tanpa nasi\n",
    "df_geprek_tanpa_nasi = df_geprek[df_geprek['Makanan Utama'].str.contains('tanpa nasi')]\n",
    "\n",
    "# Dataframe geprek dengan nasi\n",
    "df_geprek_dengan_nasi = df_geprek[~df_geprek['Makanan Utama'].str.contains('tanpa nasi')]\n",
    "\n",
    "# Dataframe indomie geprek\n",
    "df_indomie_geprek = df[df['Makanan Utama'].str.contains('Indomie') & df['Makanan Utama'].str.contains('Geprek')]\n",
    "\n",
    "# Dataframe udang geprek\n",
    "df_udang_geprek = df[df['Makanan Utama'].str.contains('Udang') & df['Makanan Utama'].str.contains('Geprek')]\n",
    "\n",
    "# Dataframe camilan\n",
    "df_camilan = df[['Camilan', 'Nama']]\n",
    "df_camilan = df_camilan[df_camilan['Camilan'] != '']\n",
    "\n",
    "# Dataframe minuman\n",
    "df_minuman = df[['Minuman', 'Nama']]\n",
    "df_minuman = df_minuman[df_minuman['Minuman'] != '']\n",
    "\n",
    "# Dataframe sambal\n",
    "df_sambal = df[['Sambal', 'Nama']]\n",
    "df_sambal = df_sambal[df_sambal['Sambal'] != '']"
   ]
  },
  {
   "cell_type": "code",
   "execution_count": 101,
   "metadata": {},
   "outputs": [
    {
     "name": "stdout",
     "output_type": "stream",
     "text": [
      "Pesanan Depot Wani: 2023-04-26 21:54:34.948243\n",
      "=====================================\n",
      "1 Ayam Geprek tanpa nasi Cabe 1 (Tot)\n",
      "1 Indomie Ayam Geprek Cabe 3 (Averill)\n",
      "1 Nasi Udang Geprek Cabe 2 (Tot)\n",
      "2 Es teh (Tot, Tot)\n"
     ]
    }
   ],
   "source": [
    "combined_prints = []\n",
    "combined_prints.append(f\"Pesanan Depot Wani: {pd.Timestamp.now()}\")\n",
    "combined_prints.append(\"=====================================\")\n",
    "combined_prints.extend([f\"{sum(df_geprek_dengan_nasi['Cabe'] == i)} Nasi Ayam Geprek Cabe {i} ({', '.join(df_geprek_dengan_nasi[df_geprek_dengan_nasi['Cabe'] == i]['Nama'])})\" for i in df_geprek_dengan_nasi['Cabe'].unique()])\n",
    "combined_prints.extend([f\"{sum(df_geprek_tanpa_nasi['Cabe'] == i)} Ayam Geprek tanpa nasi Cabe {i} ({', '.join(df_geprek_tanpa_nasi[df_geprek_tanpa_nasi['Cabe'] == i]['Nama'])})\" for i in df_geprek_tanpa_nasi['Cabe'].unique()])\n",
    "combined_prints.extend([f\"{sum(df_not_geprek['Makanan Utama'] == i)} {i} ({', '.join(df_not_geprek[df_not_geprek['Makanan Utama'] == i]['Nama'])})\" for i in df_not_geprek['Makanan Utama'].unique()])\n",
    "combined_prints.extend([f\"{sum(df_indomie_geprek['Cabe'] == i)} {df_indomie_geprek[df_indomie_geprek['Cabe'] == i]['Makanan Utama'].iloc[0]} Cabe {i} ({', '.join(df_indomie_geprek[df_indomie_geprek['Cabe'] == i]['Nama'])})\" for i in df_indomie_geprek['Cabe'].unique()])\n",
    "combined_prints.extend([f\"{sum(df_udang_geprek['Cabe'] == i)} {df_udang_geprek[df_udang_geprek['Cabe'] == i]['Makanan Utama'].iloc[0]} Cabe {i} ({', '.join(df_udang_geprek[df_udang_geprek['Cabe'] == i]['Nama'])})\" for i in df_udang_geprek['Cabe'].unique()])\n",
    "combined_prints.extend([f\"{sum(df_camilan['Camilan'] == i)} {i} ({', '.join(df_camilan[df_camilan['Camilan'] == i]['Nama'])})\" for i in df_camilan['Camilan'].unique()])\n",
    "combined_prints.extend([f\"{sum(df_minuman['Minuman'] == i)} {i} ({', '.join(df_minuman[df_minuman['Minuman'] == i]['Nama'])})\" for i in df_minuman['Minuman'].unique()])\n",
    "combined_prints.extend([f\"{sum(df_sambal['Sambal'] == i)} {i} ({', '.join(df_sambal[df_sambal['Sambal'] == i]['Nama'])})\" for i in df_sambal['Sambal'].unique()])\n",
    "\n",
    "print('\\n'.join(combined_prints))"
   ]
  },
  {
   "cell_type": "code",
   "execution_count": 92,
   "metadata": {},
   "outputs": [],
   "source": [
    "# remove all text after '(' in combined_prints\n",
    "# combined_prints = [i.split('(')[0] for i in combined_prints]\n",
    "\n",
    "# print('\\n'.join(combined_prints))"
   ]
  },
  {
   "cell_type": "code",
   "execution_count": 93,
   "metadata": {},
   "outputs": [],
   "source": [
    "payload = {'message' : '\\n'.join(combined_prints)}\n",
    "r = requests.post('https://notify-api.line.me/api/notify'\n",
    "                , headers={'Authorization' : 'Bearer {}'.format(token)}\n",
    "                , params = payload)"
   ]
  },
  {
   "cell_type": "code",
   "execution_count": null,
   "metadata": {},
   "outputs": [],
   "source": []
  }
 ],
 "metadata": {
  "kernelspec": {
   "display_name": "base",
   "language": "python",
   "name": "python3"
  },
  "language_info": {
   "codemirror_mode": {
    "name": "ipython",
    "version": 3
   },
   "file_extension": ".py",
   "mimetype": "text/x-python",
   "name": "python",
   "nbconvert_exporter": "python",
   "pygments_lexer": "ipython3",
   "version": "3.10.0"
  },
  "orig_nbformat": 4
 },
 "nbformat": 4,
 "nbformat_minor": 2
}
