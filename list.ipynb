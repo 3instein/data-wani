{
 "cells": [
  {
   "cell_type": "code",
   "execution_count": 310,
   "metadata": {},
   "outputs": [],
   "source": [
    "import pandas as pd\n",
    "import gspread\n",
    "import requests\n",
    "\n",
    "token = 'AF5y90PW7vmJALond4SEGVBFwmt3Jhj7Ba7oclAeXL4'"
   ]
  },
  {
   "cell_type": "code",
   "execution_count": 311,
   "metadata": {},
   "outputs": [],
   "source": [
    "sa = gspread.service_account(filename='geprek-wani-c700b4b8002f.json')"
   ]
  },
  {
   "cell_type": "code",
   "execution_count": 312,
   "metadata": {},
   "outputs": [],
   "source": [
    "sheet = sa.open('Wani Spreadsheet')"
   ]
  },
  {
   "cell_type": "code",
   "execution_count": 313,
   "metadata": {},
   "outputs": [],
   "source": [
    "worksheet = sheet.worksheet('Pesanan')"
   ]
  },
  {
   "cell_type": "code",
   "execution_count": 314,
   "metadata": {},
   "outputs": [],
   "source": [
    "df = pd.DataFrame(worksheet.get_all_records())"
   ]
  },
  {
   "cell_type": "code",
   "execution_count": 315,
   "metadata": {},
   "outputs": [],
   "source": [
    "df.rename(columns={'Request cabe makanan utama': 'Cabe'}, inplace=True)"
   ]
  },
  {
   "cell_type": "code",
   "execution_count": 316,
   "metadata": {},
   "outputs": [
    {
     "data": {
      "text/html": [
       "<div>\n",
       "<style scoped>\n",
       "    .dataframe tbody tr th:only-of-type {\n",
       "        vertical-align: middle;\n",
       "    }\n",
       "\n",
       "    .dataframe tbody tr th {\n",
       "        vertical-align: top;\n",
       "    }\n",
       "\n",
       "    .dataframe thead th {\n",
       "        text-align: right;\n",
       "    }\n",
       "</style>\n",
       "<table border=\"1\" class=\"dataframe\">\n",
       "  <thead>\n",
       "    <tr style=\"text-align: right;\">\n",
       "      <th></th>\n",
       "      <th>Timestamp</th>\n",
       "      <th>Nama</th>\n",
       "      <th>Makanan Utama</th>\n",
       "      <th>Cabe</th>\n",
       "      <th>Camilan</th>\n",
       "      <th>Minuman</th>\n",
       "      <th>Sambal</th>\n",
       "    </tr>\n",
       "  </thead>\n",
       "  <tbody>\n",
       "    <tr>\n",
       "      <th>0</th>\n",
       "      <td>10/04/2023 07:40:06</td>\n",
       "      <td>Rey</td>\n",
       "      <td>Nasi Ayam Bakar</td>\n",
       "      <td></td>\n",
       "      <td></td>\n",
       "      <td></td>\n",
       "      <td></td>\n",
       "    </tr>\n",
       "    <tr>\n",
       "      <th>1</th>\n",
       "      <td>10/04/2023 07:39:45</td>\n",
       "      <td>Angelo</td>\n",
       "      <td>Nasi Ayam Geprek</td>\n",
       "      <td>2</td>\n",
       "      <td>Jamur Crispy</td>\n",
       "      <td></td>\n",
       "      <td></td>\n",
       "    </tr>\n",
       "    <tr>\n",
       "      <th>2</th>\n",
       "      <td>10/04/2023 07:43:04</td>\n",
       "      <td>Kevin Sander Utomo</td>\n",
       "      <td>Nasi Goreng Spesial</td>\n",
       "      <td>2</td>\n",
       "      <td></td>\n",
       "      <td></td>\n",
       "      <td></td>\n",
       "    </tr>\n",
       "    <tr>\n",
       "      <th>3</th>\n",
       "      <td>10/04/2023 08:08:48</td>\n",
       "      <td>Max</td>\n",
       "      <td>Nasi Ayam Geprek</td>\n",
       "      <td></td>\n",
       "      <td></td>\n",
       "      <td></td>\n",
       "      <td></td>\n",
       "    </tr>\n",
       "  </tbody>\n",
       "</table>\n",
       "</div>"
      ],
      "text/plain": [
       "             Timestamp                Nama        Makanan Utama Cabe  \\\n",
       "0  10/04/2023 07:40:06                 Rey      Nasi Ayam Bakar        \n",
       "1  10/04/2023 07:39:45              Angelo     Nasi Ayam Geprek    2   \n",
       "2  10/04/2023 07:43:04  Kevin Sander Utomo  Nasi Goreng Spesial    2   \n",
       "3  10/04/2023 08:08:48                 Max     Nasi Ayam Geprek        \n",
       "\n",
       "        Camilan Minuman Sambal  \n",
       "0                               \n",
       "1  Jamur Crispy                 \n",
       "2                               \n",
       "3                               "
      ]
     },
     "execution_count": 316,
     "metadata": {},
     "output_type": "execute_result"
    }
   ],
   "source": [
    "df.head()"
   ]
  },
  {
   "cell_type": "code",
   "execution_count": 317,
   "metadata": {},
   "outputs": [
    {
     "data": {
      "text/html": [
       "<div>\n",
       "<style scoped>\n",
       "    .dataframe tbody tr th:only-of-type {\n",
       "        vertical-align: middle;\n",
       "    }\n",
       "\n",
       "    .dataframe tbody tr th {\n",
       "        vertical-align: top;\n",
       "    }\n",
       "\n",
       "    .dataframe thead th {\n",
       "        text-align: right;\n",
       "    }\n",
       "</style>\n",
       "<table border=\"1\" class=\"dataframe\">\n",
       "  <thead>\n",
       "    <tr style=\"text-align: right;\">\n",
       "      <th></th>\n",
       "      <th>Makanan Utama</th>\n",
       "      <th>Cabe</th>\n",
       "      <th>Nama</th>\n",
       "    </tr>\n",
       "  </thead>\n",
       "  <tbody>\n",
       "    <tr>\n",
       "      <th>0</th>\n",
       "      <td>Nasi Ayam Bakar</td>\n",
       "      <td>1</td>\n",
       "      <td>Rey</td>\n",
       "    </tr>\n",
       "    <tr>\n",
       "      <th>1</th>\n",
       "      <td>Nasi Ayam Geprek</td>\n",
       "      <td>2</td>\n",
       "      <td>Angelo</td>\n",
       "    </tr>\n",
       "    <tr>\n",
       "      <th>2</th>\n",
       "      <td>Nasi Goreng Spesial</td>\n",
       "      <td>2</td>\n",
       "      <td>Kevin Sander Utomo</td>\n",
       "    </tr>\n",
       "    <tr>\n",
       "      <th>3</th>\n",
       "      <td>Nasi Ayam Geprek</td>\n",
       "      <td>1</td>\n",
       "      <td>Max</td>\n",
       "    </tr>\n",
       "  </tbody>\n",
       "</table>\n",
       "</div>"
      ],
      "text/plain": [
       "         Makanan Utama  Cabe                Nama\n",
       "0      Nasi Ayam Bakar     1                 Rey\n",
       "1     Nasi Ayam Geprek     2              Angelo\n",
       "2  Nasi Goreng Spesial     2  Kevin Sander Utomo\n",
       "3     Nasi Ayam Geprek     1                 Max"
      ]
     },
     "execution_count": 317,
     "metadata": {},
     "output_type": "execute_result"
    }
   ],
   "source": [
    "# create a list containing 'Makanan Utama' and 'Nama'\n",
    "list = ['Makanan Utama', 'Cabe', 'Nama']\n",
    "\n",
    "# replace the empty string with 1\n",
    "df[list] = df[list].replace('', 1)\n",
    "\n",
    "df[list]"
   ]
  },
  {
   "cell_type": "code",
   "execution_count": 318,
   "metadata": {},
   "outputs": [
    {
     "data": {
      "text/html": [
       "<div>\n",
       "<style scoped>\n",
       "    .dataframe tbody tr th:only-of-type {\n",
       "        vertical-align: middle;\n",
       "    }\n",
       "\n",
       "    .dataframe tbody tr th {\n",
       "        vertical-align: top;\n",
       "    }\n",
       "\n",
       "    .dataframe thead th {\n",
       "        text-align: right;\n",
       "    }\n",
       "</style>\n",
       "<table border=\"1\" class=\"dataframe\">\n",
       "  <thead>\n",
       "    <tr style=\"text-align: right;\">\n",
       "      <th></th>\n",
       "      <th>Timestamp</th>\n",
       "      <th>Nama</th>\n",
       "      <th>Makanan Utama</th>\n",
       "      <th>Cabe</th>\n",
       "      <th>Camilan</th>\n",
       "      <th>Minuman</th>\n",
       "      <th>Sambal</th>\n",
       "    </tr>\n",
       "  </thead>\n",
       "  <tbody>\n",
       "    <tr>\n",
       "      <th>1</th>\n",
       "      <td>10/04/2023 07:39:45</td>\n",
       "      <td>Angelo</td>\n",
       "      <td>Nasi Ayam Geprek</td>\n",
       "      <td>2</td>\n",
       "      <td>Jamur Crispy</td>\n",
       "      <td></td>\n",
       "      <td></td>\n",
       "    </tr>\n",
       "    <tr>\n",
       "      <th>3</th>\n",
       "      <td>10/04/2023 08:08:48</td>\n",
       "      <td>Max</td>\n",
       "      <td>Nasi Ayam Geprek</td>\n",
       "      <td>1</td>\n",
       "      <td></td>\n",
       "      <td></td>\n",
       "      <td></td>\n",
       "    </tr>\n",
       "  </tbody>\n",
       "</table>\n",
       "</div>"
      ],
      "text/plain": [
       "             Timestamp    Nama     Makanan Utama  Cabe       Camilan Minuman  \\\n",
       "1  10/04/2023 07:39:45  Angelo  Nasi Ayam Geprek     2  Jamur Crispy           \n",
       "3  10/04/2023 08:08:48     Max  Nasi Ayam Geprek     1                         \n",
       "\n",
       "  Sambal  \n",
       "1         \n",
       "3         "
      ]
     },
     "execution_count": 318,
     "metadata": {},
     "output_type": "execute_result"
    }
   ],
   "source": [
    "# Custom geprek\n",
    "df_geprek = df[df['Makanan Utama'].str.contains('Geprek')]\n",
    "df_geprek"
   ]
  },
  {
   "cell_type": "code",
   "execution_count": 319,
   "metadata": {},
   "outputs": [],
   "source": [
    "# Dataframe non-geprek\n",
    "df_not_geprek = df[~df['Makanan Utama'].str.contains('Geprek')]\n",
    "\n",
    "# Dataframe geprek tanpa nasi\n",
    "df_geprek_tanpa_nasi = df_geprek[df_geprek['Makanan Utama'].str.contains('tanpa nasi')]\n",
    "\n",
    "# Dataframe geprek dengan nasi\n",
    "df_geprek_dengan_nasi = df_geprek[~df_geprek['Makanan Utama'].str.contains('tanpa nasi')]\n",
    "\n",
    "# Dataframe camilan\n",
    "df_camilan = df[['Camilan', 'Nama']]\n",
    "df_camilan = df_camilan[df_camilan['Camilan'] != '']\n",
    "\n",
    "# Dataframe minuman\n",
    "df_minuman = df[['Minuman', 'Nama']]\n",
    "df_minuman = df_minuman[df_minuman['Minuman'] != '']\n",
    "\n",
    "# Dataframe sambal\n",
    "df_sambal = df[['Sambal', 'Nama']]\n",
    "df_sambal = df_sambal[df_sambal['Sambal'] != '']"
   ]
  },
  {
   "cell_type": "code",
   "execution_count": 320,
   "metadata": {},
   "outputs": [
    {
     "name": "stdout",
     "output_type": "stream",
     "text": [
      "Pesanan Depot Wani: 2023-04-10 09:48:42.171405\n",
      "=====================================\n",
      "1 Nasi Ayam Geprek Cabe 2 (Angelo)\n",
      "1 Nasi Ayam Geprek Cabe 1 (Max)\n",
      "1 Nasi Ayam Bakar (Rey)\n",
      "1 Nasi Goreng Spesial (Kevin Sander Utomo)\n",
      "1 Jamur Crispy (Angelo)\n"
     ]
    }
   ],
   "source": [
    "combined_prints = []\n",
    "combined_prints.append(f\"Pesanan Depot Wani: {pd.Timestamp.now()}\")\n",
    "combined_prints.append(\"=====================================\")\n",
    "combined_prints.extend([f\"{sum(df_geprek_dengan_nasi['Cabe'] == i)} Nasi Ayam Geprek Cabe {i} ({', '.join(df_geprek_dengan_nasi[df_geprek_dengan_nasi['Cabe'] == i]['Nama'])})\" for i in df_geprek_dengan_nasi['Cabe'].unique()])\n",
    "combined_prints.extend([f\"{sum(df_geprek_tanpa_nasi['Cabe'] == i)} Ayam Geprek tanpa nasi Cabe {i} ({', '.join(df_geprek_tanpa_nasi[df_geprek_tanpa_nasi['Cabe'] == i]['Nama'])})\" for i in df_geprek_tanpa_nasi['Cabe'].unique()])\n",
    "combined_prints.extend([f\"{sum(df_not_geprek['Makanan Utama'] == i)} {i} ({', '.join(df_not_geprek[df_not_geprek['Makanan Utama'] == i]['Nama'])})\" for i in df_not_geprek['Makanan Utama'].unique()])\n",
    "combined_prints.extend([f\"{sum(df_camilan['Camilan'] == i)} {i} ({', '.join(df_camilan[df_camilan['Camilan'] == i]['Nama'])})\" for i in df_camilan['Camilan'].unique()])\n",
    "combined_prints.extend([f\"{sum(df_minuman['Minuman'] == i)} {i} ({', '.join(df_minuman[df_minuman['Minuman'] == i]['Nama'])})\" for i in df_minuman['Minuman'].unique()])\n",
    "combined_prints.extend([f\"{sum(df_sambal['Sambal'] == i)} {i} ({', '.join(df_sambal[df_sambal['Sambal'] == i]['Nama'])})\" for i in df_sambal['Sambal'].unique()])\n",
    "\n",
    "print('\\n'.join(combined_prints))"
   ]
  },
  {
   "cell_type": "code",
   "execution_count": 321,
   "metadata": {},
   "outputs": [],
   "source": [
    "payload = {'message' : '\\n'.join(combined_prints)}\n",
    "r = requests.post('https://notify-api.line.me/api/notify'\n",
    "                , headers={'Authorization' : 'Bearer {}'.format(token)}\n",
    "                , params = payload\n",
    "                , notificationDisabled = True)"
   ]
  },
  {
   "cell_type": "code",
   "execution_count": null,
   "metadata": {},
   "outputs": [],
   "source": []
  }
 ],
 "metadata": {
  "kernelspec": {
   "display_name": "base",
   "language": "python",
   "name": "python3"
  },
  "language_info": {
   "codemirror_mode": {
    "name": "ipython",
    "version": 3
   },
   "file_extension": ".py",
   "mimetype": "text/x-python",
   "name": "python",
   "nbconvert_exporter": "python",
   "pygments_lexer": "ipython3",
   "version": "3.10.0"
  },
  "orig_nbformat": 4
 },
 "nbformat": 4,
 "nbformat_minor": 2
}
